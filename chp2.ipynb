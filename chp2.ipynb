{
 "cells": [
  {
   "cell_type": "code",
   "execution_count": 1,
   "id": "initial_id",
   "metadata": {
    "ExecuteTime": {
     "end_time": "2024-04-16T20:20:03.032082Z",
     "start_time": "2024-04-16T20:20:02.298084Z"
    },
    "collapsed": true
   },
   "outputs": [
    {
     "name": "stdout",
     "output_type": "stream",
     "text": [
      "['mary', ',', 'do', \"n't\", 'slap', 'the', 'green', 'witch', '.']\n"
     ]
    }
   ],
   "source": [
    "import spacy\n",
    "nlp = spacy.load('en_core_web_sm')\n",
    "text = \"Mary, don't slap the green witch.\"\n",
    "print([str(token) for token in nlp(text.lower())])"
   ]
  },
  {
   "cell_type": "code",
   "execution_count": 7,
   "id": "85db6ac139362fa7",
   "metadata": {
    "ExecuteTime": {
     "end_time": "2024-04-16T20:22:52.985312Z",
     "start_time": "2024-04-16T20:22:52.980417Z"
    }
   },
   "outputs": [
    {
     "name": "stdout",
     "output_type": "stream",
     "text": [
      "['snow', 'white', 'and', 'the', 'seven', 'degrees', '#makeamoviecold', '@midnight', ':-)']\n"
     ]
    }
   ],
   "source": [
    "from nltk.tokenize import TweetTokenizer\n",
    "tweet = (u\"Snow White and the Seven Degrees\"\n",
    "         u\"#MakeAMovieCold@midnight:-)\")\n",
    "tokenizer = TweetTokenizer()\n",
    "print(tokenizer.tokenize(tweet.lower()))"
   ]
  },
  {
   "cell_type": "code",
   "execution_count": 3,
   "id": "1f054434d2a3937b",
   "metadata": {
    "ExecuteTime": {
     "end_time": "2024-04-16T20:27:05.849384Z",
     "start_time": "2024-04-16T20:27:05.843610Z"
    }
   },
   "outputs": [
    {
     "name": "stdout",
     "output_type": "stream",
     "text": [
      "[['mary', ',', 'do'], [',', 'do', \"n't\"], ['do', \"n't\", 'slap'], [\"n't\", 'slap', 'the'], ['slap', 'the', 'green'], ['the', 'green', 'witch'], ['green', 'witch', '.']]\n"
     ]
    }
   ],
   "source": [
    "def n_grams(text, n):\n",
    "    '''Принимает на вход токены или текст, возвращает список n-грамм'''\n",
    "    return [text[i:i+n] for i in range(len(text)-n+1)]\n",
    "cleaned = ['mary', ',', 'do', \"n't\", 'slap', 'the', 'green', 'witch', '.']\n",
    "print(n_grams(cleaned, 3))\n"
   ]
  },
  {
   "cell_type": "code",
   "execution_count": 5,
   "id": "31c2d0ff6b549cff",
   "metadata": {},
   "outputs": [
    {
     "name": "stdout",
     "output_type": "stream",
     "text": [
      "Snowball --> snowball --> snowbal\n",
      "stemmer --> stemmer --> stemmer\n",
      "is --> be --> be\n",
      "a --> a --> a\n",
      "slightly --> slightly --> slightli\n",
      "improved --> improved --> improv\n",
      "version --> version --> version\n",
      "of --> of --> of\n",
      "the --> the --> the\n",
      "Porter --> Porter --> porter\n",
      "stemmer --> stemmer --> stemmer\n",
      "and --> and --> and\n",
      "is --> be --> be\n",
      "usually --> usually --> usual\n",
      "preferred --> prefer --> prefer\n",
      "over --> over --> over\n",
      "the --> the --> the\n",
      "latter --> latter --> latter\n",
      ". --> . --> .\n"
     ]
    }
   ],
   "source": [
    "import spacy\n",
    "from nltk.stem.porter import PorterStemmer\n",
    "nlp = spacy.load('en_core_web_sm')\n",
    "doc = nlp(\"Snowball stemmer is a slightly improved version of the Porter stemmer and is usually preferred over the latter.\")\n",
    "stemer = PorterStemmer()\n",
    "for token in doc:\n",
    "    print(f\"{token} --> {token.lemma_} --> {stemer.stem(token.lemma_)}\")"
   ]
  },
  {
   "cell_type": "code",
   "execution_count": 6,
   "id": "29dc79fe",
   "metadata": {},
   "outputs": [
    {
     "name": "stdout",
     "output_type": "stream",
     "text": [
      "Marry - PROPN\n",
      "slapped - VERB\n",
      "the - DET\n",
      "green - ADJ\n",
      "witch - NOUN\n",
      ". - PUNCT\n"
     ]
    }
   ],
   "source": [
    "doc = nlp(u\"Marry slapped the green witch.\")\n",
    "for token in doc:\n",
    "    print(f\"{token} - {token.pos_}\")"
   ]
  },
  {
   "cell_type": "code",
   "execution_count": 7,
   "id": "cb92af57",
   "metadata": {},
   "outputs": [
    {
     "name": "stdout",
     "output_type": "stream",
     "text": [
      "Marry - NP\n",
      "the green witch - NP\n"
     ]
    }
   ],
   "source": [
    "for chunk in doc.noun_chunks:\n",
    "    print(f\"{chunk} - {chunk.label_}\")"
   ]
  },
  {
   "cell_type": "code",
   "execution_count": 10,
   "id": "09ae9af0",
   "metadata": {},
   "outputs": [
    {
     "name": "stdout",
     "output_type": "stream",
     "text": [
      "Marry - PERSON\n"
     ]
    }
   ],
   "source": [
    "for entity in doc.ents:\n",
    "    print(f\"{entity} - {entity.label_}\")"
   ]
  }
 ],
 "metadata": {
  "kernelspec": {
   "display_name": "Python 3",
   "language": "python",
   "name": "python3"
  },
  "language_info": {
   "codemirror_mode": {
    "name": "ipython",
    "version": 3
   },
   "file_extension": ".py",
   "mimetype": "text/x-python",
   "name": "python",
   "nbconvert_exporter": "python",
   "pygments_lexer": "ipython3",
   "version": "3.11.7"
  }
 },
 "nbformat": 4,
 "nbformat_minor": 5
}
