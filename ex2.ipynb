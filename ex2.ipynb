{
 "cells": [
  {
   "metadata": {
    "ExecuteTime": {
     "end_time": "2024-04-16T12:58:42.283141Z",
     "start_time": "2024-04-16T12:58:42.276461Z"
    }
   },
   "cell_type": "code",
   "source": [
    "from math import log2\n",
    "\n",
    "from torch import Tensor, sort\n",
    "\n",
    "\n",
    "def num_swapped_pairs(ys_true: Tensor, ys_pred: Tensor) -> int:\n",
    "    count = 0\n",
    "    for i in range(ys_pred.__array__()):\n",
    "        if ys_true[i] != ys_pred[i]:\n",
    "            count += 1\n",
    "    return count\n",
    "\n",
    "ys_true = Tensor([0, 0, 0, 1])\n",
    "ys_pred = Tensor([0, 1, 0, 0])\n",
    "print(ys_true)"
   ],
   "id": "42a2039b5e69d534",
   "outputs": [
    {
     "name": "stdout",
     "output_type": "stream",
     "text": [
      "tensor([0., 0., 0., 1.])\n"
     ]
    }
   ],
   "execution_count": 7
  },
  {
   "metadata": {},
   "cell_type": "code",
   "outputs": [],
   "execution_count": null,
   "source": "",
   "id": "50df11486742dff0"
  }
 ],
 "metadata": {
  "kernelspec": {
   "display_name": "Python 3",
   "language": "python",
   "name": "python3"
  },
  "language_info": {
   "codemirror_mode": {
    "name": "ipython",
    "version": 2
   },
   "file_extension": ".py",
   "mimetype": "text/x-python",
   "name": "python",
   "nbconvert_exporter": "python",
   "pygments_lexer": "ipython2",
   "version": "2.7.6"
  }
 },
 "nbformat": 4,
 "nbformat_minor": 5
}
