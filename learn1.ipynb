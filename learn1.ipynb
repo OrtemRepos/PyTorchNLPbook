{
 "cells": [
  {
   "cell_type": "code",
   "id": "initial_id",
   "metadata": {
    "collapsed": true,
    "ExecuteTime": {
     "end_time": "2024-04-16T18:10:35.602683Z",
     "start_time": "2024-04-16T18:10:35.225322Z"
    }
   },
   "source": [
    "from sklearn.feature_extraction.text import CountVectorizer\n",
    "import seaborn as sns"
   ],
   "outputs": [],
   "execution_count": 1
  },
  {
   "metadata": {
    "ExecuteTime": {
     "end_time": "2024-04-16T18:10:35.962401Z",
     "start_time": "2024-04-16T18:10:35.603689Z"
    }
   },
   "cell_type": "code",
   "source": [
    "corpus = ['Time flies flies like an arrow.',\n",
    "          'Fruit flies like a banana.']\n",
    "vocab=['an','arrow','banana','flies','fruit','like','time']\n",
    "one_hot_vectorizer = CountVectorizer(binary=True)\n",
    "one_hot = one_hot_vectorizer.fit_transform(corpus).toarray()\n",
    "sns.heatmap(one_hot, annot=True,\n",
    "            cbar=False, xticklabels=vocab,\n",
    "            yticklabels=['Предложение 1','Предложение 2'])"
   ],
   "id": "fd47b943a3fe563",
   "outputs": [
    {
     "data": {
      "text/plain": [
       "<Axes: >"
      ]
     },
     "execution_count": 2,
     "metadata": {},
     "output_type": "execute_result"
    },
    {
     "data": {
      "text/plain": [
       "<Figure size 640x480 with 1 Axes>"
      ],
      "image/png": "[encoded data removed]"
     },
     "metadata": {},
     "output_type": "display_data"
    }
   ],
   "execution_count": 2
  },
  {
   "metadata": {
    "ExecuteTime": {
     "end_time": "2024-04-16T18:10:36.255562Z",
     "start_time": "2024-04-16T18:10:35.963410Z"
    }
   },
   "cell_type": "code",
   "source": [
    "from sklearn.feature_extraction.text import TfidfVectorizer\n",
    "vocab=['an','arrow','banana','flies','fruit','like','time']\n",
    "tfidf_vectorizer = TfidfVectorizer()\n",
    "tfidf = tfidf_vectorizer.fit_transform(corpus).toarray()\n",
    "sns.heatmap(tfidf, annot=True, cbar=False, xticklabels=vocab,\n",
    "            yticklabels=['Предложение 1', 'Предложение 2'])"
   ],
   "id": "26602cca64732b18",
   "outputs": [
    {
     "data": {
      "text/plain": [
       "<Axes: >"
      ]
     },
     "execution_count": 3,
     "metadata": {},
     "output_type": "execute_result"
    },
    {
     "data": {
      "text/plain": [
       "<Figure size 640x480 with 1 Axes>"
      ],
      "image/png": "[encoded data removed]"
     },
     "metadata": {},
     "output_type": "display_data"
    }
   ],
   "execution_count": 3
  },
  {
   "metadata": {
    "ExecuteTime": {
     "end_time": "2024-04-16T18:10:39.769065Z",
     "start_time": "2024-04-16T18:10:36.259120Z"
    }
   },
   "cell_type": "code",
   "source": [
    "import torch\n",
    "def describe(x: torch.Tensor):\n",
    "    print(f'Type: {x.type()}')\n",
    "    print(f'Shape: {x.shape}')\n",
    "    print(f'Values: \\n{x}\\n\\n')\n",
    "describe(torch.randn(2, 3))"
   ],
   "id": "42fa5b42b4ceae6b",
   "outputs": [
    {
     "name": "stdout",
     "output_type": "stream",
     "text": [
      "Type: torch.FloatTensor\n",
      "Shape: torch.Size([2, 3])\n",
      "Values: \n",
      "tensor([[-1.2770, -0.2029,  0.5036],\n",
      "        [-0.3157, -0.8963,  2.5529]])\n",
      "\n",
      "\n"
     ]
    }
   ],
   "execution_count": 4
  },
  {
   "metadata": {
    "ExecuteTime": {
     "end_time": "2024-04-16T18:10:39.777563Z",
     "start_time": "2024-04-16T18:10:39.771079Z"
    }
   },
   "cell_type": "code",
   "source": [
    "describe(torch.rand(2, 3)) # случайное равномерное распределение\n",
    "describe(torch.randn(2, 3)) # случайное нормальное распределение "
   ],
   "id": "676824fa31606a82",
   "outputs": [
    {
     "name": "stdout",
     "output_type": "stream",
     "text": [
      "Type: torch.FloatTensor\n",
      "Shape: torch.Size([2, 3])\n",
      "Values: \n",
      "tensor([[0.8766, 0.6948, 0.9174],\n",
      "        [0.8456, 0.1276, 0.5514]])\n",
      "\n",
      "\n",
      "Type: torch.FloatTensor\n",
      "Shape: torch.Size([2, 3])\n",
      "Values: \n",
      "tensor([[ 0.0117,  1.6477,  0.9985],\n",
      "        [ 0.6730,  0.2538, -0.7910]])\n",
      "\n",
      "\n"
     ]
    }
   ],
   "execution_count": 5
  },
  {
   "metadata": {
    "ExecuteTime": {
     "end_time": "2024-04-16T18:10:39.787097Z",
     "start_time": "2024-04-16T18:10:39.779613Z"
    }
   },
   "cell_type": "code",
   "source": [
    "describe(torch.zeros(2, 3))\n",
    "x = torch.ones(2, 3)\n",
    "describe(x)\n",
    "x.fill_(5)\n",
    "describe(x)"
   ],
   "id": "da41ddd2d52b9770",
   "outputs": [
    {
     "name": "stdout",
     "output_type": "stream",
     "text": [
      "Type: torch.FloatTensor\n",
      "Shape: torch.Size([2, 3])\n",
      "Values: \n",
      "tensor([[0., 0., 0.],\n",
      "        [0., 0., 0.]])\n",
      "\n",
      "\n",
      "Type: torch.FloatTensor\n",
      "Shape: torch.Size([2, 3])\n",
      "Values: \n",
      "tensor([[1., 1., 1.],\n",
      "        [1., 1., 1.]])\n",
      "\n",
      "\n",
      "Type: torch.FloatTensor\n",
      "Shape: torch.Size([2, 3])\n",
      "Values: \n",
      "tensor([[5., 5., 5.],\n",
      "        [5., 5., 5.]])\n",
      "\n",
      "\n"
     ]
    }
   ],
   "execution_count": 6
  },
  {
   "metadata": {
    "ExecuteTime": {
     "end_time": "2024-04-16T18:10:39.795224Z",
     "start_time": "2024-04-16T18:10:39.789110Z"
    }
   },
   "cell_type": "code",
   "source": [
    "import numpy as np\n",
    "\n",
    "npy = np.random.rand(2, 3)\n",
    "describe(torch.from_numpy(npy))"
   ],
   "id": "84dd7fe46e01b4f2",
   "outputs": [
    {
     "name": "stdout",
     "output_type": "stream",
     "text": [
      "Type: torch.DoubleTensor\n",
      "Shape: torch.Size([2, 3])\n",
      "Values: \n",
      "tensor([[0.6265, 0.1176, 0.3834],\n",
      "        [0.1728, 0.0713, 0.9450]], dtype=torch.float64)\n",
      "\n",
      "\n"
     ]
    }
   ],
   "execution_count": 7
  },
  {
   "metadata": {
    "ExecuteTime": {
     "end_time": "2024-04-16T18:10:39.803546Z",
     "start_time": "2024-04-16T18:10:39.797226Z"
    }
   },
   "cell_type": "code",
   "source": [
    "x = torch.tensor([[1, 2, 3],\n",
    "                  [4, 5, 6]])\n",
    "describe(x)"
   ],
   "id": "5fdfcd52fd0918b3",
   "outputs": [
    {
     "name": "stdout",
     "output_type": "stream",
     "text": [
      "Type: torch.LongTensor\n",
      "Shape: torch.Size([2, 3])\n",
      "Values: \n",
      "tensor([[1, 2, 3],\n",
      "        [4, 5, 6]])\n",
      "\n",
      "\n"
     ]
    }
   ],
   "execution_count": 8
  },
  {
   "metadata": {
    "ExecuteTime": {
     "end_time": "2024-04-16T18:10:39.810747Z",
     "start_time": "2024-04-16T18:10:39.805550Z"
    }
   },
   "cell_type": "code",
   "source": [
    "x = x.long()\n",
    "describe(x)"
   ],
   "id": "2c530f22f9bc01f5",
   "outputs": [
    {
     "name": "stdout",
     "output_type": "stream",
     "text": [
      "Type: torch.LongTensor\n",
      "Shape: torch.Size([2, 3])\n",
      "Values: \n",
      "tensor([[1, 2, 3],\n",
      "        [4, 5, 6]])\n",
      "\n",
      "\n"
     ]
    }
   ],
   "execution_count": 9
  },
  {
   "metadata": {
    "ExecuteTime": {
     "end_time": "2024-04-16T18:10:39.818196Z",
     "start_time": "2024-04-16T18:10:39.812750Z"
    }
   },
   "cell_type": "code",
   "source": [
    "x = torch.tensor([[1, 2, 3],\n",
    "                  [4, 5, 6]],\n",
    "                 dtype=torch.int64)\n",
    "describe(x)\n"
   ],
   "id": "dccc025b78050efd",
   "outputs": [
    {
     "name": "stdout",
     "output_type": "stream",
     "text": [
      "Type: torch.LongTensor\n",
      "Shape: torch.Size([2, 3])\n",
      "Values: \n",
      "tensor([[1, 2, 3],\n",
      "        [4, 5, 6]])\n",
      "\n",
      "\n"
     ]
    }
   ],
   "execution_count": 10
  },
  {
   "metadata": {
    "ExecuteTime": {
     "end_time": "2024-04-16T18:10:39.825234Z",
     "start_time": "2024-04-16T18:10:39.819207Z"
    }
   },
   "cell_type": "code",
   "source": [
    "x = x.float()\n",
    "describe(x)"
   ],
   "id": "27adf38cfa7f418",
   "outputs": [
    {
     "name": "stdout",
     "output_type": "stream",
     "text": [
      "Type: torch.FloatTensor\n",
      "Shape: torch.Size([2, 3])\n",
      "Values: \n",
      "tensor([[1., 2., 3.],\n",
      "        [4., 5., 6.]])\n",
      "\n",
      "\n"
     ]
    }
   ],
   "execution_count": 11
  },
  {
   "metadata": {
    "ExecuteTime": {
     "end_time": "2024-04-16T18:10:39.832395Z",
     "start_time": "2024-04-16T18:10:39.827243Z"
    }
   },
   "cell_type": "code",
   "source": [
    "x = torch.randn(2, 3)\n",
    "describe(x)"
   ],
   "id": "a902ae4820a7a0ba",
   "outputs": [
    {
     "name": "stdout",
     "output_type": "stream",
     "text": [
      "Type: torch.FloatTensor\n",
      "Shape: torch.Size([2, 3])\n",
      "Values: \n",
      "tensor([[ 0.3543,  1.6364, -0.0057],\n",
      "        [-1.3935,  0.9264,  0.3871]])\n",
      "\n",
      "\n"
     ]
    }
   ],
   "execution_count": 12
  },
  {
   "metadata": {
    "ExecuteTime": {
     "end_time": "2024-04-16T18:10:39.840557Z",
     "start_time": "2024-04-16T18:10:39.834408Z"
    }
   },
   "cell_type": "code",
   "source": "describe(torch.add(x, x))",
   "id": "8d5721f0a9c4699b",
   "outputs": [
    {
     "name": "stdout",
     "output_type": "stream",
     "text": [
      "Type: torch.FloatTensor\n",
      "Shape: torch.Size([2, 3])\n",
      "Values: \n",
      "tensor([[ 0.7086,  3.2728, -0.0114],\n",
      "        [-2.7869,  1.8529,  0.7741]])\n",
      "\n",
      "\n"
     ]
    }
   ],
   "execution_count": 13
  },
  {
   "metadata": {
    "ExecuteTime": {
     "end_time": "2024-04-16T18:10:39.847637Z",
     "start_time": "2024-04-16T18:10:39.841568Z"
    }
   },
   "cell_type": "code",
   "source": "describe(x + x)",
   "id": "d9453e81a53d8eef",
   "outputs": [
    {
     "name": "stdout",
     "output_type": "stream",
     "text": [
      "Type: torch.FloatTensor\n",
      "Shape: torch.Size([2, 3])\n",
      "Values: \n",
      "tensor([[ 0.7086,  3.2728, -0.0114],\n",
      "        [-2.7869,  1.8529,  0.7741]])\n",
      "\n",
      "\n"
     ]
    }
   ],
   "execution_count": 14
  },
  {
   "metadata": {
    "ExecuteTime": {
     "end_time": "2024-04-16T18:10:39.855867Z",
     "start_time": "2024-04-16T18:10:39.849957Z"
    }
   },
   "cell_type": "code",
   "source": [
    "x = torch.arange(6, dtype=float)\n",
    "describe(x)"
   ],
   "id": "db5c9b9b2ed2e31",
   "outputs": [
    {
     "name": "stdout",
     "output_type": "stream",
     "text": [
      "Type: torch.DoubleTensor\n",
      "Shape: torch.Size([6])\n",
      "Values: \n",
      "tensor([0., 1., 2., 3., 4., 5.], dtype=torch.float64)\n",
      "\n",
      "\n"
     ]
    }
   ],
   "execution_count": 15
  },
  {
   "metadata": {
    "ExecuteTime": {
     "end_time": "2024-04-16T18:10:39.869292Z",
     "start_time": "2024-04-16T18:10:39.863271Z"
    }
   },
   "cell_type": "code",
   "source": [
    "x = x.view(2, 3)\n",
    "describe(x)"
   ],
   "id": "813afc8d9d3e310c",
   "outputs": [
    {
     "name": "stdout",
     "output_type": "stream",
     "text": [
      "Type: torch.DoubleTensor\n",
      "Shape: torch.Size([2, 3])\n",
      "Values: \n",
      "tensor([[0., 1., 2.],\n",
      "        [3., 4., 5.]], dtype=torch.float64)\n",
      "\n",
      "\n"
     ]
    }
   ],
   "execution_count": 16
  },
  {
   "metadata": {
    "ExecuteTime": {
     "end_time": "2024-04-16T18:10:39.877316Z",
     "start_time": "2024-04-16T18:10:39.871301Z"
    }
   },
   "cell_type": "code",
   "source": "describe(torch.sum(x, dim=0))",
   "id": "3ab3f94ebfd36f06",
   "outputs": [
    {
     "name": "stdout",
     "output_type": "stream",
     "text": [
      "Type: torch.DoubleTensor\n",
      "Shape: torch.Size([3])\n",
      "Values: \n",
      "tensor([3., 5., 7.], dtype=torch.float64)\n",
      "\n",
      "\n"
     ]
    }
   ],
   "execution_count": 17
  },
  {
   "metadata": {
    "ExecuteTime": {
     "end_time": "2024-04-16T18:10:39.885385Z",
     "start_time": "2024-04-16T18:10:39.879333Z"
    }
   },
   "cell_type": "code",
   "source": "describe(torch.sum(x, dim=1))",
   "id": "edbaaaefcfea2e47",
   "outputs": [
    {
     "name": "stdout",
     "output_type": "stream",
     "text": [
      "Type: torch.DoubleTensor\n",
      "Shape: torch.Size([2])\n",
      "Values: \n",
      "tensor([ 3., 12.], dtype=torch.float64)\n",
      "\n",
      "\n"
     ]
    }
   ],
   "execution_count": 18
  },
  {
   "metadata": {
    "ExecuteTime": {
     "end_time": "2024-04-16T18:10:39.893268Z",
     "start_time": "2024-04-16T18:10:39.886897Z"
    }
   },
   "cell_type": "code",
   "source": "describe(torch.transpose(x, 0, 1))",
   "id": "48a59c1fcc3a222",
   "outputs": [
    {
     "name": "stdout",
     "output_type": "stream",
     "text": [
      "Type: torch.DoubleTensor\n",
      "Shape: torch.Size([3, 2])\n",
      "Values: \n",
      "tensor([[0., 3.],\n",
      "        [1., 4.],\n",
      "        [2., 5.]], dtype=torch.float64)\n",
      "\n",
      "\n"
     ]
    }
   ],
   "execution_count": 19
  },
  {
   "metadata": {
    "ExecuteTime": {
     "end_time": "2024-04-16T18:10:39.902720Z",
     "start_time": "2024-04-16T18:10:39.895309Z"
    }
   },
   "cell_type": "code",
   "source": [
    "x = torch.arange(6, dtype=torch.float16).view(2, 3)\n",
    "describe(x)"
   ],
   "id": "18487683e6cfd5aa",
   "outputs": [
    {
     "name": "stdout",
     "output_type": "stream",
     "text": [
      "Type: torch.HalfTensor\n",
      "Shape: torch.Size([2, 3])\n",
      "Values: \n",
      "tensor([[0., 1., 2.],\n",
      "        [3., 4., 5.]], dtype=torch.float16)\n",
      "\n",
      "\n"
     ]
    }
   ],
   "execution_count": 20
  },
  {
   "metadata": {
    "ExecuteTime": {
     "end_time": "2024-04-16T18:10:39.912215Z",
     "start_time": "2024-04-16T18:10:39.904732Z"
    }
   },
   "cell_type": "code",
   "source": "describe(x[:2, :3])",
   "id": "b83c80fb53d09880",
   "outputs": [
    {
     "name": "stdout",
     "output_type": "stream",
     "text": [
      "Type: torch.HalfTensor\n",
      "Shape: torch.Size([2, 3])\n",
      "Values: \n",
      "tensor([[0., 1., 2.],\n",
      "        [3., 4., 5.]], dtype=torch.float16)\n",
      "\n",
      "\n"
     ]
    }
   ],
   "execution_count": 21
  },
  {
   "metadata": {
    "ExecuteTime": {
     "end_time": "2024-04-16T18:10:39.919438Z",
     "start_time": "2024-04-16T18:10:39.914226Z"
    }
   },
   "cell_type": "code",
   "source": "describe(x[0, 1])",
   "id": "fc50d44a4a57485e",
   "outputs": [
    {
     "name": "stdout",
     "output_type": "stream",
     "text": [
      "Type: torch.HalfTensor\n",
      "Shape: torch.Size([])\n",
      "Values: \n",
      "1.0\n",
      "\n",
      "\n"
     ]
    }
   ],
   "execution_count": 22
  },
  {
   "metadata": {
    "ExecuteTime": {
     "end_time": "2024-04-16T18:10:39.928144Z",
     "start_time": "2024-04-16T18:10:39.920968Z"
    }
   },
   "cell_type": "code",
   "source": [
    "indices = torch.LongTensor([0, 2])\n",
    "describe(torch.index_select(x, dim=1, index=indices))"
   ],
   "id": "27eba629ac2c028f",
   "outputs": [
    {
     "name": "stdout",
     "output_type": "stream",
     "text": [
      "Type: torch.HalfTensor\n",
      "Shape: torch.Size([2, 2])\n",
      "Values: \n",
      "tensor([[0., 2.],\n",
      "        [3., 5.]], dtype=torch.float16)\n",
      "\n",
      "\n"
     ]
    }
   ],
   "execution_count": 23
  },
  {
   "metadata": {
    "ExecuteTime": {
     "end_time": "2024-04-16T18:10:39.938112Z",
     "start_time": "2024-04-16T18:10:39.930169Z"
    }
   },
   "cell_type": "code",
   "source": [
    "indices = torch.LongTensor([0, 0])\n",
    "describe(torch.index_select(x, dim=0, index=indices))"
   ],
   "id": "bd828a3ec30cef1d",
   "outputs": [
    {
     "name": "stdout",
     "output_type": "stream",
     "text": [
      "Type: torch.HalfTensor\n",
      "Shape: torch.Size([2, 3])\n",
      "Values: \n",
      "tensor([[0., 1., 2.],\n",
      "        [0., 1., 2.]], dtype=torch.float16)\n",
      "\n",
      "\n"
     ]
    }
   ],
   "execution_count": 24
  },
  {
   "metadata": {
    "ExecuteTime": {
     "end_time": "2024-04-16T18:10:39.947514Z",
     "start_time": "2024-04-16T18:10:39.940852Z"
    }
   },
   "cell_type": "code",
   "source": [
    "row_indices = torch.arange(2).long()\n",
    "col_indices = torch.LongTensor([0, 1])\n",
    "describe(x[row_indices, col_indices])"
   ],
   "id": "680cd48ed7f6361b",
   "outputs": [
    {
     "name": "stdout",
     "output_type": "stream",
     "text": [
      "Type: torch.HalfTensor\n",
      "Shape: torch.Size([2])\n",
      "Values: \n",
      "tensor([0., 4.], dtype=torch.float16)\n",
      "\n",
      "\n"
     ]
    }
   ],
   "execution_count": 25
  },
  {
   "metadata": {
    "ExecuteTime": {
     "end_time": "2024-04-16T18:10:39.955243Z",
     "start_time": "2024-04-16T18:10:39.949574Z"
    }
   },
   "cell_type": "code",
   "source": [
    "x = torch.arange(6).view(2, 3)\n",
    "describe(x)"
   ],
   "id": "a818ac246d9106ed",
   "outputs": [
    {
     "name": "stdout",
     "output_type": "stream",
     "text": [
      "Type: torch.LongTensor\n",
      "Shape: torch.Size([2, 3])\n",
      "Values: \n",
      "tensor([[0, 1, 2],\n",
      "        [3, 4, 5]])\n",
      "\n",
      "\n"
     ]
    }
   ],
   "execution_count": 26
  },
  {
   "metadata": {
    "ExecuteTime": {
     "end_time": "2024-04-16T18:10:39.963268Z",
     "start_time": "2024-04-16T18:10:39.956767Z"
    }
   },
   "cell_type": "code",
   "source": "describe(torch.cat([x, x], dim=0))",
   "id": "a8a9adafb26ae2b5",
   "outputs": [
    {
     "name": "stdout",
     "output_type": "stream",
     "text": [
      "Type: torch.LongTensor\n",
      "Shape: torch.Size([4, 3])\n",
      "Values: \n",
      "tensor([[0, 1, 2],\n",
      "        [3, 4, 5],\n",
      "        [0, 1, 2],\n",
      "        [3, 4, 5]])\n",
      "\n",
      "\n"
     ]
    }
   ],
   "execution_count": 27
  },
  {
   "metadata": {
    "ExecuteTime": {
     "end_time": "2024-04-16T18:10:39.971124Z",
     "start_time": "2024-04-16T18:10:39.965276Z"
    }
   },
   "cell_type": "code",
   "source": "describe(torch.cat([x, x], dim=1))",
   "id": "d93b994a2c3ea5cc",
   "outputs": [
    {
     "name": "stdout",
     "output_type": "stream",
     "text": [
      "Type: torch.LongTensor\n",
      "Shape: torch.Size([2, 6])\n",
      "Values: \n",
      "tensor([[0, 1, 2, 0, 1, 2],\n",
      "        [3, 4, 5, 3, 4, 5]])\n",
      "\n",
      "\n"
     ]
    }
   ],
   "execution_count": 28
  },
  {
   "metadata": {
    "ExecuteTime": {
     "end_time": "2024-04-16T18:10:39.979760Z",
     "start_time": "2024-04-16T18:10:39.973134Z"
    }
   },
   "cell_type": "code",
   "source": "describe(torch.stack([x, x]))",
   "id": "59bd1e050386d9c1",
   "outputs": [
    {
     "name": "stdout",
     "output_type": "stream",
     "text": [
      "Type: torch.LongTensor\n",
      "Shape: torch.Size([2, 2, 3])\n",
      "Values: \n",
      "tensor([[[0, 1, 2],\n",
      "         [3, 4, 5]],\n",
      "\n",
      "        [[0, 1, 2],\n",
      "         [3, 4, 5]]])\n",
      "\n",
      "\n"
     ]
    }
   ],
   "execution_count": 29
  },
  {
   "metadata": {
    "ExecuteTime": {
     "end_time": "2024-04-16T18:10:39.988269Z",
     "start_time": "2024-04-16T18:10:39.981775Z"
    }
   },
   "cell_type": "code",
   "source": [
    "x1 = torch.arange(6, dtype=torch.float32).view(2, 3)\n",
    "describe(x1)"
   ],
   "id": "9721d94aa4d8fc33",
   "outputs": [
    {
     "name": "stdout",
     "output_type": "stream",
     "text": [
      "Type: torch.FloatTensor\n",
      "Shape: torch.Size([2, 3])\n",
      "Values: \n",
      "tensor([[0., 1., 2.],\n",
      "        [3., 4., 5.]])\n",
      "\n",
      "\n"
     ]
    }
   ],
   "execution_count": 30
  },
  {
   "metadata": {
    "ExecuteTime": {
     "end_time": "2024-04-16T18:10:39.997300Z",
     "start_time": "2024-04-16T18:10:39.990278Z"
    }
   },
   "cell_type": "code",
   "source": [
    "x2 = torch.ones(3, 2)\n",
    "x2[:, 1] += 1\n",
    "describe(x2)"
   ],
   "id": "214630f3a42caa2d",
   "outputs": [
    {
     "name": "stdout",
     "output_type": "stream",
     "text": [
      "Type: torch.FloatTensor\n",
      "Shape: torch.Size([3, 2])\n",
      "Values: \n",
      "tensor([[1., 2.],\n",
      "        [1., 2.],\n",
      "        [1., 2.]])\n",
      "\n",
      "\n"
     ]
    }
   ],
   "execution_count": 31
  },
  {
   "metadata": {
    "ExecuteTime": {
     "end_time": "2024-04-16T18:10:40.006439Z",
     "start_time": "2024-04-16T18:10:39.999303Z"
    }
   },
   "cell_type": "code",
   "source": "describe(torch.mm(x1, x2))",
   "id": "6db2da281f7abe7d",
   "outputs": [
    {
     "name": "stdout",
     "output_type": "stream",
     "text": [
      "Type: torch.FloatTensor\n",
      "Shape: torch.Size([2, 2])\n",
      "Values: \n",
      "tensor([[ 3.,  6.],\n",
      "        [12., 24.]])\n",
      "\n",
      "\n"
     ]
    }
   ],
   "execution_count": 32
  },
  {
   "metadata": {
    "ExecuteTime": {
     "end_time": "2024-04-16T18:10:40.015781Z",
     "start_time": "2024-04-16T18:10:40.009213Z"
    }
   },
   "cell_type": "code",
   "source": [
    "x = 0\n",
    "x = torch.ones(2, 2, requires_grad=True)\n",
    "describe(x)\n",
    "print(x.grad is None)"
   ],
   "id": "417a4267913dc63b",
   "outputs": [
    {
     "name": "stdout",
     "output_type": "stream",
     "text": [
      "Type: torch.FloatTensor\n",
      "Shape: torch.Size([2, 2])\n",
      "Values: \n",
      "tensor([[1., 1.],\n",
      "        [1., 1.]], requires_grad=True)\n",
      "\n",
      "\n",
      "True\n"
     ]
    }
   ],
   "execution_count": 33
  },
  {
   "metadata": {
    "ExecuteTime": {
     "end_time": "2024-04-16T18:10:40.025229Z",
     "start_time": "2024-04-16T18:10:40.016781Z"
    }
   },
   "cell_type": "code",
   "source": [
    "y = (x + 2) * (x + 5) + 3\n",
    "describe(y)\n",
    "print(x.grad is None)"
   ],
   "id": "7837175e3b5d0a5c",
   "outputs": [
    {
     "name": "stdout",
     "output_type": "stream",
     "text": [
      "Type: torch.FloatTensor\n",
      "Shape: torch.Size([2, 2])\n",
      "Values: \n",
      "tensor([[21., 21.],\n",
      "        [21., 21.]], grad_fn=<AddBackward0>)\n",
      "\n",
      "\n",
      "True\n"
     ]
    }
   ],
   "execution_count": 34
  },
  {
   "metadata": {
    "ExecuteTime": {
     "end_time": "2024-04-16T18:10:40.065480Z",
     "start_time": "2024-04-16T18:10:40.026239Z"
    }
   },
   "cell_type": "code",
   "source": [
    "z = y.mean()\n",
    "describe(z)\n",
    "z.backward()\n",
    "print(x.grad is None)"
   ],
   "id": "63ac3dbd39b091a7",
   "outputs": [
    {
     "name": "stdout",
     "output_type": "stream",
     "text": [
      "Type: torch.FloatTensor\n",
      "Shape: torch.Size([])\n",
      "Values: \n",
      "21.0\n",
      "\n",
      "\n",
      "False\n"
     ]
    }
   ],
   "execution_count": 35
  },
  {
   "metadata": {
    "ExecuteTime": {
     "end_time": "2024-04-16T18:10:40.072763Z",
     "start_time": "2024-04-16T18:10:40.067140Z"
    }
   },
   "cell_type": "code",
   "source": "print(torch.cuda.is_available())",
   "id": "9fcaf0bf2aa782f9",
   "outputs": [
    {
     "name": "stdout",
     "output_type": "stream",
     "text": [
      "True\n"
     ]
    }
   ],
   "execution_count": 36
  },
  {
   "metadata": {
    "ExecuteTime": {
     "end_time": "2024-04-16T18:10:40.080310Z",
     "start_time": "2024-04-16T18:10:40.074776Z"
    }
   },
   "cell_type": "code",
   "source": [
    "device = torch.device(\"cuda\" if torch.cuda.is_available() else \"cpu\")\n",
    "print(device)"
   ],
   "id": "656bd26d008c337f",
   "outputs": [
    {
     "name": "stdout",
     "output_type": "stream",
     "text": [
      "cuda\n"
     ]
    }
   ],
   "execution_count": 37
  },
  {
   "metadata": {
    "ExecuteTime": {
     "end_time": "2024-04-16T18:10:40.300422Z",
     "start_time": "2024-04-16T18:10:40.082318Z"
    }
   },
   "cell_type": "code",
   "source": [
    "x = torch.rand(3, 3).to(device)\n",
    "describe(x)"
   ],
   "id": "87c75852cfe0266",
   "outputs": [
    {
     "name": "stdout",
     "output_type": "stream",
     "text": [
      "Type: torch.cuda.FloatTensor\n",
      "Shape: torch.Size([3, 3])\n",
      "Values: \n",
      "tensor([[0.9537, 0.5728, 0.9804],\n",
      "        [0.8829, 0.6533, 0.8887],\n",
      "        [0.2684, 0.8580, 0.5049]], device='cuda:0')\n",
      "\n",
      "\n"
     ]
    }
   ],
   "execution_count": 38
  },
  {
   "metadata": {
    "ExecuteTime": {
     "end_time": "2024-04-16T18:10:41.841315Z",
     "start_time": "2024-04-16T18:10:40.303324Z"
    }
   },
   "cell_type": "code",
   "source": [
    "y = torch.rand(3, 3)\n",
    "x + y"
   ],
   "id": "ae41d0b75988255c",
   "outputs": [
    {
     "ename": "RuntimeError",
     "evalue": "Expected all tensors to be on the same device, but found at least two devices, cuda:0 and cpu!",
     "output_type": "error",
     "traceback": [
      "\u001B[1;31m---------------------------------------------------------------------------\u001B[0m",
      "\u001B[1;31mRuntimeError\u001B[0m                              Traceback (most recent call last)",
      "Cell \u001B[1;32mIn[39], line 2\u001B[0m\n\u001B[0;32m      1\u001B[0m y \u001B[38;5;241m=\u001B[39m torch\u001B[38;5;241m.\u001B[39mrand(\u001B[38;5;241m3\u001B[39m, \u001B[38;5;241m3\u001B[39m)\n\u001B[1;32m----> 2\u001B[0m x \u001B[38;5;241m+\u001B[39m y\n",
      "\u001B[1;31mRuntimeError\u001B[0m: Expected all tensors to be on the same device, but found at least two devices, cuda:0 and cpu!"
     ]
    }
   ],
   "execution_count": 39
  },
  {
   "metadata": {
    "ExecuteTime": {
     "end_time": "2024-04-16T18:10:41.843319Z",
     "start_time": "2024-04-16T18:10:41.842322Z"
    }
   },
   "cell_type": "code",
   "source": [
    "cpu_device = torch.device('cpu')\n",
    "y = y.to(cpu_device)\n",
    "x = x.to(cpu_device)\n",
    "x + y"
   ],
   "id": "42876e0bf1d84cb6",
   "outputs": [],
   "execution_count": null
  },
  {
   "metadata": {
    "ExecuteTime": {
     "end_time": "2024-04-16T18:10:41.844315Z",
     "start_time": "2024-04-16T18:10:41.844315Z"
    }
   },
   "cell_type": "code",
   "source": [
    "x = torch.rand(3, 3)\n",
    "x.unsqueeze(0)"
   ],
   "id": "4510b91df78ef17",
   "outputs": [],
   "execution_count": null
  },
  {
   "metadata": {},
   "cell_type": "code",
   "source": "x.squeeze(0)",
   "id": "d85737d1d4c9378",
   "outputs": [],
   "execution_count": null
  },
  {
   "metadata": {},
   "cell_type": "code",
   "source": [
    "x = 3 + torch.rand(5, 3) * (7 - 3)\n",
    "describe(x)"
   ],
   "id": "d51f2585d830af1e",
   "outputs": [],
   "execution_count": null
  },
  {
   "metadata": {},
   "cell_type": "code",
   "source": [
    "x = torch.rand(3, 3 )\n",
    "x.normal_()"
   ],
   "id": "e9e3b5e9b4313bc9",
   "outputs": [],
   "execution_count": null
  },
  {
   "metadata": {},
   "cell_type": "code",
   "source": [
    "x = torch.tensor([1, 1, 1, 0, 1])\n",
    "torch.nonzero(x)"
   ],
   "id": "c1803588cdf07305",
   "outputs": [],
   "execution_count": null
  },
  {
   "metadata": {},
   "cell_type": "code",
   "source": [
    "x = torch.rand(3, 1)\n",
    "x.expand(3, 4)"
   ],
   "id": "d49aabd59a45d832",
   "outputs": [],
   "execution_count": null
  },
  {
   "metadata": {},
   "cell_type": "code",
   "source": [
    "a = torch.rand(3, 4, 5)\n",
    "b = torch.rand(3, 5, 4)\n",
    "torch.bmm(a, b)"
   ],
   "id": "1042374b48a8d23",
   "outputs": [],
   "execution_count": null
  },
  {
   "metadata": {},
   "cell_type": "code",
   "source": [
    "a = torch.rand(3, 4, 5)\n",
    "b = torch.rand(5, 4)\n",
    "torch.bmm(a, b.unsqueeze(0).expand(a.size(0), *b.size()))"
   ],
   "id": "54a764707f770444",
   "outputs": [],
   "execution_count": null
  },
  {
   "metadata": {},
   "cell_type": "code",
   "source": "",
   "id": "e7898abbd63896d3",
   "outputs": [],
   "execution_count": null
  }
 ],
 "metadata": {
  "kernelspec": {
   "display_name": "Python 3",
   "language": "python",
   "name": "python3"
  },
  "language_info": {
   "codemirror_mode": {
    "name": "ipython",
    "version": 2
   },
   "file_extension": ".py",
   "mimetype": "text/x-python",
   "name": "python",
   "nbconvert_exporter": "python",
   "pygments_lexer": "ipython2",
   "version": "2.7.6"
  }
 },
 "nbformat": 4,
 "nbformat_minor": 5
}
